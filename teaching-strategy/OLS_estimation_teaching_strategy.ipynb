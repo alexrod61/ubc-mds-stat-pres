{
 "cells": [
  {
   "cell_type": "markdown",
   "id": "71f2bb0d",
   "metadata": {
    "slideshow": {
     "slide_type": "slide"
    }
   },
   "source": [
    "# Teaching Strategy\n",
    "\n",
    "## Ordinary Least-Squares Estimation\n",
    "\n",
    "G. Alexi Rodríguez-Arelis, **May 2022**"
   ]
  },
  {
   "cell_type": "markdown",
   "id": "bca4dca5",
   "metadata": {
    "slideshow": {
     "slide_type": "slide"
    }
   },
   "source": [
    "# Outline\n",
    "\n",
    "1. How to holistically teach ordinary least-squares estimation?\n",
    "2. Student Engagement and Learning\n",
    "3. Assessment\n",
    "4. Technology\n",
    "5. Student Difficulties"
   ]
  },
  {
   "cell_type": "markdown",
   "id": "07f27bc5",
   "metadata": {
    "slideshow": {
     "slide_type": "slide"
    }
   },
   "source": [
    "## 1. How to holistically teach the chosen topic?\n",
    "\n",
    "In a Data Science context, teaching a statistical model involves these steps:"
   ]
  },
  {
   "cell_type": "markdown",
   "id": "93b6040a",
   "metadata": {
    "slideshow": {
     "slide_type": "fragment"
    }
   },
   "source": [
    "1. Main statistical inquiry.\n",
    "2. Data collection.\n",
    "4. Exploratory data analysis (EDA).\n",
    "3. Data modelling (assumptions involved!).\n",
    "4. Estimation.\n",
    "5. Inference or prediction **(not covered in the sample lecture)**.\n",
    "6. Data storytelling."
   ]
  },
  {
   "cell_type": "markdown",
   "id": "1680b9b8",
   "metadata": {
    "slideshow": {
     "slide_type": "slide"
    }
   },
   "source": [
    "The previous process can even be generalized to models different from ordinary least-squares (OLS). Moreover, this might be applicable in a Bayesian framework."
   ]
  },
  {
   "cell_type": "markdown",
   "id": "be0ca491",
   "metadata": {
    "slideshow": {
     "slide_type": "fragment"
    }
   },
   "source": [
    "We need to highlight the following:\n",
    "\n",
    "- Students need to keep in mind the main statistical inquiry **all the time**. This is the \"big picture\" of the whole Data Science problem.\n",
    "- Statistical modelling involves a well-defined process. Thus, it is crucial to keep track of the seven steps."
   ]
  },
  {
   "cell_type": "markdown",
   "id": "9b996051",
   "metadata": {
    "slideshow": {
     "slide_type": "slide"
    }
   },
   "source": [
    "## 2. Student Engagement and Learning\n",
    "\n",
    "From previous experience, using datasets involving **Data Science-related applications** has improved student engagement in the statistical courses. "
   ]
  },
  {
   "cell_type": "markdown",
   "id": "6446f5f6",
   "metadata": {
    "slideshow": {
     "slide_type": "fragment"
    }
   },
   "source": [
    "In this case, the OLS lecture is more interesting if we set up a scenario where the student is in **the shoes of a \"Data Scientist at Tidal\"** with a concrete statistical objective.\n",
    "\n",
    "A Master of Data Science (MDS) program requires applied Statistics and not just abstract modelling. It is essential to cater to a diverse cohort of students."
   ]
  },
  {
   "cell_type": "markdown",
   "id": "5f8c2c95",
   "metadata": {
    "slideshow": {
     "slide_type": "slide"
    }
   },
   "source": [
    "Recall the sample lecture's high-level learning outcomes:\n",
    "\n",
    ">- **Define linear regression models.**\n",
    ">- **Estimate their terms using `R` via a sample and interpret them.**"
   ]
  },
  {
   "cell_type": "markdown",
   "id": "89e17355",
   "metadata": {
    "slideshow": {
     "slide_type": "fragment"
    }
   },
   "source": [
    "The first learning outcome is approached by setting up this **hypothetical scenario** where a linear regression allows the student to solve the main inquiry. We aim to build a practical intuition as follows:\n",
    "\n",
    "- Posing specific **in-class EDA questions**.\n",
    "- Identifying the model's components in the context of the problem as **in-class modelling questions**."
   ]
  },
  {
   "cell_type": "markdown",
   "id": "4089aefa",
   "metadata": {
    "slideshow": {
     "slide_type": "slide"
    }
   },
   "source": [
    "The second learning outcome heavily relies on **code cells** distributed throughout the lecture's presentation. Specifically, the lecture notes involve three types of code cells:\n",
    "\n",
    "1. Data wrangling.\n",
    "2. Data plotting\n",
    "3. Model estimation."
   ]
  },
  {
   "cell_type": "markdown",
   "id": "795fbdd8",
   "metadata": {
    "slideshow": {
     "slide_type": "fragment"
    }
   },
   "source": [
    "Finally, besides in-class activities, platforms such as Slack allow the whole cohort to work together on their learning goals."
   ]
  },
  {
   "cell_type": "markdown",
   "id": "c404e272",
   "metadata": {
    "slideshow": {
     "slide_type": "slide"
    }
   },
   "source": [
    "## 3. Assessment"
   ]
  },
  {
   "cell_type": "markdown",
   "id": "1fc57473",
   "metadata": {
    "slideshow": {
     "slide_type": "fragment"
    }
   },
   "source": [
    "Assessing the topic's learning outcomes in applied statistical models (in a Data Science context) **DOES NOT NECESSARILY** involve abstract mathematical proofs. As instructors, we need to clarify this point from the very beginning of the course."
   ]
  },
  {
   "cell_type": "markdown",
   "id": "83e76061",
   "metadata": {
    "slideshow": {
     "slide_type": "fragment"
    }
   },
   "source": [
    "Students' attaintment for the learning outcomes of the chosen topic can be done as follows:\n",
    "\n",
    "1. **Formative Assessment.** We can do it via in-class questions and discussions. The in-class discussions are constructive when models get more complex, e.g., students can discuss in groups the overall goal when using a given statistical model (this is especially useful in subsequent stages of the program such as the Capstone Project)."
   ]
  },
  {
   "cell_type": "markdown",
   "id": "0a6f3e64",
   "metadata": {
    "slideshow": {
     "slide_type": "slide"
    }
   },
   "source": [
    "2. **Summative Assessment.** A non-project based MDS course typically has two summative assessments:"
   ]
  },
  {
   "cell_type": "markdown",
   "id": "484ae693",
   "metadata": {
    "slideshow": {
     "slide_type": "fragment"
    }
   },
   "source": [
    "- **Labs.** The chosen topic is evaluated via another Data Science-related problem involving an interesting dataset (e.g., the Facebook data in the sample lab). This lab should cover exactly the concepts and practice discussed during lecture time. Moreover, we can include **optional and more challenging questions**."
   ]
  },
  {
   "cell_type": "markdown",
   "id": "dca790d4",
   "metadata": {
    "slideshow": {
     "slide_type": "fragment"
    }
   },
   "source": [
    "- **Quizzes.** These assessments **SHOULD NOT INVOLVE** purely abstract statistical concepts. Ideally, one would embed these concepts into brief case studies, which are doable during quiz time."
   ]
  },
  {
   "cell_type": "markdown",
   "id": "a4087fb8",
   "metadata": {
    "slideshow": {
     "slide_type": "slide"
    }
   },
   "source": [
    "## 4. Technology\n",
    "\n",
    "Teaching these statistical topics would involve the following learning technologies:"
   ]
  },
  {
   "cell_type": "markdown",
   "id": "1372723d",
   "metadata": {
    "slideshow": {
     "slide_type": "fragment"
    }
   },
   "source": [
    "- **Jupyter notebook and book.** The Jupyter notebook allows combining both equations and code cells. Furthermore, as the course progresses, the Jupyter book knits all the notebooks into a single website for easy access when reviewing all contents."
   ]
  },
  {
   "cell_type": "markdown",
   "id": "7b5b2ea7",
   "metadata": {
    "slideshow": {
     "slide_type": "fragment"
    }
   },
   "source": [
    "- **RISE.** Integrating this extension to turn the Jupyter notebook into a live reveal.js-based presentation is practical when preparing the lecture."
   ]
  },
  {
   "cell_type": "markdown",
   "id": "bbdc3738",
   "metadata": {
    "slideshow": {
     "slide_type": "slide"
    }
   },
   "source": [
    "- **`R` markdown.** This reproducible tool is handy when working on the lab assignment.\n",
    "- **Otter Grader.** This tool allows us to build auto-graded questions via different test functions. This is especially helpful in introductory courses since it provides instant feedback to the students."
   ]
  },
  {
   "cell_type": "markdown",
   "id": "7791c682",
   "metadata": {
    "slideshow": {
     "slide_type": "fragment"
    }
   },
   "source": [
    "- **Slack.** This messaging platform allows the whole cohort to help each other when solving assignments and reviewing lecture content."
   ]
  },
  {
   "cell_type": "markdown",
   "id": "54f3fc4d",
   "metadata": {
    "slideshow": {
     "slide_type": "slide"
    }
   },
   "source": [
    "## 5. Student Difficulties"
   ]
  },
  {
   "cell_type": "markdown",
   "id": "0e226562",
   "metadata": {
    "slideshow": {
     "slide_type": "fragment"
    }
   },
   "source": [
    "MDS cohorts are diverse in terms of academic backgrounds. Thus, teaching statistical topics needs to be flexible enough to provide a great learning experience for everybody."
   ]
  },
  {
   "cell_type": "markdown",
   "id": "4a855d39",
   "metadata": {
    "slideshow": {
     "slide_type": "fragment"
    }
   },
   "source": [
    "Nevertheless, students could face the following difficulties:\n",
    "\n",
    "- They could find mathematical notation **overwhelming at first**. Therefore, we need to decompose these equations into understandable concepts.\n",
    "- Identifying the **right types of variables** (continuous or discrete).\n",
    "- How the **loss function** is used in this estimation process (and its relationship with Machine Learning).\n",
    "- Using the **proper coding functions and arguments**."
   ]
  }
 ],
 "metadata": {
  "celltoolbar": "Slideshow",
  "kernelspec": {
   "display_name": "R",
   "language": "R",
   "name": "ir"
  },
  "language_info": {
   "codemirror_mode": "r",
   "file_extension": ".r",
   "mimetype": "text/x-r-source",
   "name": "R",
   "pygments_lexer": "r",
   "version": "4.1.0"
  }
 },
 "nbformat": 4,
 "nbformat_minor": 5
}
