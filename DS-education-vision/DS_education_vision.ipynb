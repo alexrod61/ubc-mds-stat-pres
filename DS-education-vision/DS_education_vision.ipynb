{
 "cells": [
  {
   "cell_type": "markdown",
   "id": "dc5a545d",
   "metadata": {
    "slideshow": {
     "slide_type": "slide"
    }
   },
   "source": [
    "# Vision for Data Science Education\n",
    "\n",
    "G. Alexi Rodríguez-Arelis, **May 2022**"
   ]
  },
  {
   "cell_type": "markdown",
   "id": "b18e36a9",
   "metadata": {
    "slideshow": {
     "slide_type": "slide"
    }
   },
   "source": [
    "# Outline\n",
    "\n",
    "1. A Safe and Welcoming Learning Space\n",
    "2. What should be taught?\n",
    "3. How should it be taught?"
   ]
  },
  {
   "cell_type": "markdown",
   "id": "269a45da",
   "metadata": {
    "slideshow": {
     "slide_type": "slide"
    }
   },
   "source": [
    "## 1. A Safe and Welcoming Learning Space\n",
    "\n",
    "We must always strive to provide a safe and welcoming learning space. Even though this concept is broad, I will encompass it in two main aspects."
   ]
  },
  {
   "cell_type": "markdown",
   "id": "c80c3154",
   "metadata": {
    "slideshow": {
     "slide_type": "fragment"
    }
   },
   "source": [
    "The first one is a flexible and adaptive teaching material:\n",
    "\n",
    "- It has to cater a wide audience range.\n",
    "- Visual learners really apreciate adequate plots (e.g., how can we picture the elements of the loss function in ordinary least-squares (OLS)?).\n",
    "- Abstract learners would prefer the inclusion of analytical expressions (i.e., the so-called math!)."
   ]
  },
  {
   "cell_type": "markdown",
   "id": "d4d879c3",
   "metadata": {
    "slideshow": {
     "slide_type": "fragment"
    }
   },
   "source": [
    "Furthermore, the level of challenge must be tuned accordingly, i.e., we would have a higher level of expertise in graduate courses than in undergraduate ones."
   ]
  },
  {
   "cell_type": "markdown",
   "id": "b4ff0175",
   "metadata": {
    "slideshow": {
     "slide_type": "slide"
    }
   },
   "source": [
    "Secondly, as a visible minority in Canada and Latino educator, building a safe space for underrepresented groups is fundamental. This involves the following:\n",
    "\n",
    "- Instructors and teaching assistants have to be committed to addressing all inquiries with empathy and openness.\n",
    "- Encouraging underrepresented groups to be active in different academic activities inside and outside the classroom."
   ]
  },
  {
   "cell_type": "markdown",
   "id": "3993b944",
   "metadata": {
    "slideshow": {
     "slide_type": "slide"
    }
   },
   "source": [
    "## 2. What Should Be Taught?\n",
    "\n",
    "Teaching Data Science involves three fundamental pillars: Statistics, Machine Learning, and Computing Platforms/Tools."
   ]
  },
  {
   "cell_type": "markdown",
   "id": "7dcde9ad",
   "metadata": {
    "slideshow": {
     "slide_type": "fragment"
    }
   },
   "source": [
    "Even though I am primarily involved in the statistical side, there are some points to highlight:\n",
    "\n",
    "- It is crucial to set a common ground between Statistics and Machine Learning. Both fields complement each other. However, terminology is not always consistent.\n",
    "- As educators, it is crucial to set all the necessary bridges between both fields. This heavily implies the development of integral learning material."
   ]
  },
  {
   "cell_type": "markdown",
   "id": "d915d478",
   "metadata": {
    "slideshow": {
     "slide_type": "slide"
    }
   },
   "source": [
    "- All courses need to integrate the use of Computing Platforms/Tools such as Jupyter notebook/book, GitHub, `R` markdowns, etc.\n",
    "- Students need to get as much exposure as possible (in both levels: undergraduate and graduate). This is especially helpful in advanced phases such as Capstone Projects."
   ]
  },
  {
   "cell_type": "markdown",
   "id": "5113e2a2",
   "metadata": {
    "slideshow": {
     "slide_type": "slide"
    }
   },
   "source": [
    "Now, statistically speaking, the following topics are fundamental:\n",
    "\n",
    "- Univariate statistical inference (frequentist and Bayesian).\n",
    "- Regression analysis via OLS, generalized linear models, mixed-effects models, etc. \n",
    "- Applied tools in Data Science-related topics such as A/B testing (i.e., design and analysis of experiments)."
   ]
  },
  {
   "cell_type": "markdown",
   "id": "b4955428",
   "metadata": {
    "slideshow": {
     "slide_type": "fragment"
    }
   },
   "source": [
    "Moreover, some other critical statistical fields need to be considered in the future (e.g., sampling and non-basic power analysis)."
   ]
  },
  {
   "cell_type": "markdown",
   "id": "f30ef789",
   "metadata": {
    "slideshow": {
     "slide_type": "slide"
    }
   },
   "source": [
    "## 3. How should it be taught?\n",
    "\n",
    "Unlike purely statistical courses, teaching these concepts in a Data Science context involves applied datasets. From my experience in the Master of Data Science, the following cases have been quite engaging:\n",
    "\n",
    "- Discussing the importance of representative sampling in statistical inference via hypothetical **political polls**.\n",
    "- Exploring the Bayes' rules using simulated data involving a **social study via the Tinder app**.\n",
    "- Getting the first insight into Bayesian hierarchical models using **Spotify data**.\n",
    "- Practicing A/B testing via **practical scenarios within industry**."
   ]
  },
  {
   "cell_type": "markdown",
   "id": "ebec8877",
   "metadata": {
    "slideshow": {
     "slide_type": "slide"
    }
   },
   "source": [
    "Furthermore, motivating group discussions (especially during lab time) is a great way to engage students in collaborative thinking. Again, this is helpful in more advanced courses involving Capstone Projects."
   ]
  },
  {
   "cell_type": "markdown",
   "id": "e42ca6a4",
   "metadata": {
    "slideshow": {
     "slide_type": "fragment"
    }
   },
   "source": [
    "And last but not least, I find teaching with high energy as something vital during lecture and lab times. Therefore, setting up a dynamic learning environment is essential in all my courses."
   ]
  }
 ],
 "metadata": {
  "celltoolbar": "Slideshow",
  "kernelspec": {
   "display_name": "R",
   "language": "R",
   "name": "ir"
  },
  "language_info": {
   "codemirror_mode": "r",
   "file_extension": ".r",
   "mimetype": "text/x-r-source",
   "name": "R",
   "pygments_lexer": "r",
   "version": "4.1.0"
  }
 },
 "nbformat": 4,
 "nbformat_minor": 5
}
